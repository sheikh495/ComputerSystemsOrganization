{
  "nbformat": 4,
  "nbformat_minor": 0,
  "metadata": {
    "colab": {
      "provenance": [],
      "authorship_tag": "ABX9TyM7/RpVrs+95ztyhvYolxG0",
      "include_colab_link": true
    },
    "kernelspec": {
      "name": "python3",
      "display_name": "Python 3"
    },
    "language_info": {
      "name": "python"
    }
  },
  "cells": [
    {
      "cell_type": "markdown",
      "metadata": {
        "id": "view-in-github",
        "colab_type": "text"
      },
      "source": [
        "<a href=\"https://colab.research.google.com/github/sheikh495/ComputerSystemsOrganization/blob/main/Vector_Architecture_Analysis.ipynb\" target=\"_parent\"><img src=\"https://colab.research.google.com/assets/colab-badge.svg\" alt=\"Open In Colab\"/></a>"
      ]
    },
    {
      "cell_type": "code",
      "execution_count": 3,
      "metadata": {
        "id": "k__bwiKBSzwh"
      },
      "outputs": [],
      "source": [
        "import numpy as np\n",
        "\n",
        "# Assuming 'a', 'b', 'c', 'd', and 'e' are NumPy arrays of length 500\n",
        "a = np.random.rand(500)\n",
        "b = np.random.rand(500)\n",
        "c = np.random.rand(500)\n",
        "d = np.random.rand(500)\n",
        "e = np.empty(500)\n",
        "\n",
        "# Perform the computation using NumPy\n",
        "for i in range(0, 500, 64):  # Process 64 elements at a time\n",
        "    va = a[i:i+64]\n",
        "    vb = b[i:i+64]\n",
        "    vc = c[i:i+64]\n",
        "    vd = d[i:i+64]\n",
        "\n",
        "    result = (va + vb) * (vc - vd)\n",
        "    e[i:i+64] = result\n",
        "\n",
        "# 'e' now contains the computed values\n"
      ]
    },
    {
      "cell_type": "markdown",
      "source": [
        "#include <stdio.h>\n",
        "\n",
        "int main() {\n",
        "    int max_iterations = 64;\n",
        "    int num_elements = 500;\n",
        "    int num_chunks = (num_elements + max_iterations - 1) / max_iterations;\n",
        "\n",
        "    // Initialize arrays a, b, c, and d with appropriate values\n",
        "    int a[500], b[500], c[500], d[500], e[500];\n",
        "\n",
        "    // Assume arrays a, b, c, and d are filled with values here\n",
        "\n",
        "    for (int chunk = 0; chunk < num_chunks; chunk++) {\n",
        "        int start_index = chunk * max_iterations;\n",
        "        int end_index = (chunk + 1) * max_iterations;\n",
        "        if (end_index > num_elements) {\n",
        "            end_index = num_elements;\n",
        "        }\n",
        "\n",
        "        for (int i = start_index; i < end_index; i++) {\n",
        "            e[i] = (a[i] + b[i]) * (c[i] - d[i]);\n",
        "        }\n",
        "    }\n",
        "\n",
        "    // Print the results\n",
        "    for (int i = 0; i < num_elements; i++) {\n",
        "        printf(\"e[%d] = %d\\n\", i, e[i]);\n",
        "    }\n",
        "\n",
        "    return 0;\n",
        "}\n"
      ],
      "metadata": {
        "id": "FAFJR5egYlDt"
      }
    },
    {
      "cell_type": "code",
      "source": [
        "import numpy as np\n",
        "\n",
        "# Assuming 'a', 'b', 'c', 'd', and 'e' are NumPy arrays of length 500\n",
        "a = np.random.rand(500)\n",
        "b = np.random.rand(500)\n",
        "c = np.random.rand(500)\n",
        "d = np.random.rand(500)\n",
        "e = np.empty(500)\n",
        "\n",
        "# Number of elements processed per inner loop iteration\n",
        "elements_per_iteration = 64\n",
        "\n",
        "for i in range(0, 500, elements_per_iteration):\n",
        "    # Ensure we don't go beyond the array size\n",
        "    end_index = min(i + elements_per_iteration, 500)\n",
        "\n",
        "    # Perform the computation using NumPy\n",
        "    result = (a[i:end_index] + b[i:end_index]) * (c[i:end_index] - d[i:end_index])\n",
        "    e[i:end_index] = result\n",
        "\n",
        "# 'e' now contains the computed values\n"
      ],
      "metadata": {
        "id": "1HyVFBzvTisB"
      },
      "execution_count": 4,
      "outputs": []
    },
    {
      "cell_type": "code",
      "source": [
        "import numpy as np\n",
        "\n",
        "# Assuming 'a', 'b', 'c', 'd', and 'e' are NumPy arrays of length 500\n",
        "a = np.random.rand(500)\n",
        "b = np.random.rand(500)\n",
        "c = np.random.rand(500)\n",
        "d = np.random.rand(500)\n",
        "e = np.empty(500)\n",
        "\n",
        "# Set the vector length (RV64V vector length = 64, but we'll use NumPy SIMD capabilities)\n",
        "vector_length = 64\n",
        "\n",
        "# Calculate the total number of iterations (ceil(500 / vector_length))\n",
        "total_iterations = -(-500 // vector_length)\n",
        "\n",
        "# Perform the vectorized computation\n",
        "for i in range(total_iterations):\n",
        "    start_idx = i * vector_length\n",
        "    end_idx = min(start_idx + vector_length, 500)\n",
        "\n",
        "    # Process 64 elements at a time using NumPy SIMD capabilities\n",
        "    va = a[start_idx:end_idx]\n",
        "    vb = b[start_idx:end_idx]\n",
        "    vc = c[start_idx:end_idx]\n",
        "    vd = d[start_idx:end_idx]\n",
        "\n",
        "    result = (va + vb) * (vc - vd)\n",
        "\n",
        "    # Store the result back to array 'e'\n",
        "    e[start_idx:end_idx] = result\n",
        "\n",
        "# 'e' now contains the computed values\n"
      ],
      "metadata": {
        "id": "ecGxiaHsVa_r"
      },
      "execution_count": 5,
      "outputs": []
    },
    {
      "cell_type": "markdown",
      "source": [
        "#QConsider the following code:\n",
        "for (i = 0; i < 500; i++)\n",
        "    e[i] = (a[i] + b[i]) * (c[i] - d[i]);\n",
        "\n",
        "Assume that the processor has a maximum vector length of 64 and the startup overheads of the load/store unit is 15 cycles, the multiply unit is 8 cycles, and the add/subtract unit is 5 cycles."
      ],
      "metadata": {
        "id": "hMRCXFOtaRp6"
      }
    },
    {
      "cell_type": "markdown",
      "source": [
        "#include <stdio.h>\n",
        "\n",
        "#define ARRAY_SIZE 500\n",
        "#define MAX_ITERATIONS 64\n",
        "\n",
        "int main() {\n",
        "    int a[ARRAY_SIZE];\n",
        "    int b[ARRAY_SIZE];\n",
        "    int c[ARRAY_SIZE];\n",
        "    int d[ARRAY_SIZE];\n",
        "    int e[ARRAY_SIZE];\n",
        "\n",
        "    // Assuming the arrays a, b, c, and d are already defined and initialized.\n",
        "    // ...\n",
        "\n",
        "    int num_chunks = ARRAY_SIZE / MAX_ITERATIONS;\n",
        "    int remaining_elements = ARRAY_SIZE % MAX_ITERATIONS;\n",
        "\n",
        "    // Process chunks of MAX_ITERATIONS elements\n",
        "    for (int chunk = 0; chunk < num_chunks; chunk++) {\n",
        "        int start_index = chunk * MAX_ITERATIONS;\n",
        "\n",
        "        for (int i = 0; i < MAX_ITERATIONS; i++) {\n",
        "            int index = start_index + i;\n",
        "            e[index] = (a[index] + b[index]) * (c[index] - d[index]);\n",
        "        }\n",
        "    }\n",
        "\n",
        "    // Process the remaining elements (if any)\n",
        "    for (int i = ARRAY_SIZE - remaining_elements; i < ARRAY_SIZE; i++) {\n",
        "        e[i] = (a[i] + b[i]) * (c[i] - d[i]);\n",
        "    }\n",
        "\n",
        "    // Print the result array e\n",
        "    for (int i = 0; i < ARRAY_SIZE; i++) {\n",
        "        printf(\"e[%d] = %d\\n\", i, e[i]);\n",
        "    }\n",
        "\n",
        "    return 0;\n",
        "}\n"
      ],
      "metadata": {
        "id": "LZ1siQTPaUgC"
      }
    },
    {
      "cell_type": "code",
      "source": [
        "!gcc -o my_program my_code.c\n",
        "!./my_program\n"
      ],
      "metadata": {
        "colab": {
          "base_uri": "https://localhost:8080/"
        },
        "id": "yBnpiy7TaZsr",
        "outputId": "94f25278-9003-4cc1-f816-d8b613582a7c"
      },
      "execution_count": 6,
      "outputs": [
        {
          "output_type": "stream",
          "name": "stdout",
          "text": [
            "\u001b[01m\u001b[Kcc1:\u001b[m\u001b[K \u001b[01;31m\u001b[Kfatal error: \u001b[m\u001b[Kmy_code.c: No such file or directory\n",
            "compilation terminated.\n",
            "/bin/bash: line 1: ./my_program: No such file or directory\n"
          ]
        }
      ]
    },
    {
      "cell_type": "code",
      "source": [
        "%%script bash\n",
        "\n",
        "cat <<EOF > my_code.c\n",
        "#include <stdio.h>\n",
        "\n",
        "int main() {\n",
        "    int a = 5;\n",
        "    int b = 10;\n",
        "    int sum = a + b;\n",
        "    printf(\"Sum of %d and %d is %d\\n\", a, b, sum);\n",
        "    return 0;\n",
        "}\n",
        "EOF\n",
        "\n",
        "gcc -o my_program my_code.c\n",
        "./my_program\n"
      ],
      "metadata": {
        "colab": {
          "base_uri": "https://localhost:8080/"
        },
        "id": "qbrfUYkFan61",
        "outputId": "f68b1d2f-35f8-4fd2-d5b7-22951851712c"
      },
      "execution_count": 8,
      "outputs": [
        {
          "output_type": "stream",
          "name": "stdout",
          "text": [
            "Sum of 5 and 10 is 15\n"
          ]
        }
      ]
    },
    {
      "cell_type": "code",
      "source": [
        "%%script bash\n",
        "\n",
        "cat <<EOF > my_code.c\n",
        "#include <stdio.h>\n",
        "\n",
        "#define ARRAY_SIZE 500\n",
        "#define MAX_ITERATIONS 64\n",
        "\n",
        "int main() {\n",
        "    int a[ARRAY_SIZE];\n",
        "    int b[ARRAY_SIZE];\n",
        "    int c[ARRAY_SIZE];\n",
        "    int d[ARRAY_SIZE];\n",
        "    int e[ARRAY_SIZE];\n",
        "\n",
        "    // Assuming the arrays a, b, c, and d are already defined and initialized.\n",
        "    // ...\n",
        "\n",
        "    int num_chunks = ARRAY_SIZE / MAX_ITERATIONS;\n",
        "    int remaining_elements = ARRAY_SIZE % MAX_ITERATIONS;\n",
        "\n",
        "    // Process chunks of MAX_ITERATIONS elements\n",
        "    for (int chunk = 0; chunk < num_chunks; chunk++) {\n",
        "        int start_index = chunk * MAX_ITERATIONS;\n",
        "\n",
        "        for (int i = 0; i < MAX_ITERATIONS; i++) {\n",
        "            int index = start_index + i;\n",
        "            e[index] = (a[index] + b[index]) * (c[index] - d[index]);\n",
        "        }\n",
        "    }\n",
        "\n",
        "    // Process the remaining elements (if any)\n",
        "    for (int i = ARRAY_SIZE - remaining_elements; i < ARRAY_SIZE; i++) {\n",
        "        e[i] = (a[i] + b[i]) * (c[i] - d[i]);\n",
        "    }\n",
        "\n",
        "    // Print the result array e\n",
        "    for (int i = 0; i < ARRAY_SIZE; i++) {\n",
        "        printf(\"e[%d] = %d\\n\", i, e[i]);\n",
        "    }\n",
        "\n",
        "    return 0;\n",
        "}\n",
        "EOF\n",
        "\n",
        "gcc -o my_program my_code.c\n",
        "./my_program\n"
      ],
      "metadata": {
        "id": "U52MecjqbEpF"
      },
      "execution_count": null,
      "outputs": []
    }
  ]
}